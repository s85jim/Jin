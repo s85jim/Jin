{
 "cells": [
  {
   "cell_type": "markdown",
   "metadata": {},
   "source": [
    "**Problem**: Determine the healthiness of student ambassadors in WKU based on BMI by R\n",
    "\n",
    "\n",
    "**Problem Description**:  WKU Health Center wants to know body mass index (BMI) among all student ambassadors. BMI can serve as a indicator of high body fatness, and it's important to students' health. Below is the formula to calculate the BMI value: \n",
    "\n",
    "$$BMI = \\frac{weight (kg)}{height (m)^2}$$\n",
    "\n",
    "If the BMI of a student is between 18.5 - 22.9, then this student is healthy. If it's higher than 22.9, it indicates the student is fatter than the normal weight, and if it's lower than 18.5, it means the student is thinner than the public. \n",
    "\n",
    "Thus, Health Center @ WKU wants to know hom many students' BMI lies in the range of 18.5 to 22.9, and the center comes to Calvin for help."
   ]
  },
  {
   "cell_type": "markdown",
   "metadata": {},
   "source": [
    "Calvin distributes a survey among his friends, and the table below shows the result of his survey. \n",
    "\n",
    "| Student   |      Height (m)      |  Weight (kg) |\n",
    "|:----------:|:-------------:|:------:|\n",
    "| 1 |  1.63 | 50 |\n",
    "| 2 |  1.89 | 48 |\n",
    "| 3 |  1.74 | 70 |\n",
    "| 4 |  1.72 | 72 |\n",
    "| 5 |  1.65 | 49 |\n",
    "| 6 |  1.80 | 52 |\n",
    "| 7 |  1.75 | 80 |\n",
    "| 8 |  1.62 | 42 |\n",
    "| 9 |  1.75 | 60 |\n",
    "| 10 | 1.68  |58  |\n",
    "| 11 | 1.59 | 44 |\n",
    "| 12 | 1.67 | 53 |\n",
    "| 13 | 1.74  |61  |\n",
    "| 14 | 1.72  | 82 |\n",
    "| 15 | 1.75 | 77 |\n",
    "\n",
    "\n"
   ]
  },
  {
   "cell_type": "markdown",
   "metadata": {},
   "source": [
    "**1. Vectorize our table and let's check it:**"
   ]
  },
  {
   "cell_type": "code",
   "execution_count": 2,
   "metadata": {},
   "outputs": [
    {
     "data": {
      "text/html": [
       "<ol class=list-inline>\n",
       "\t<li>1.63</li>\n",
       "\t<li>1.89</li>\n",
       "\t<li>1.74</li>\n",
       "\t<li>1.72</li>\n",
       "\t<li>1.65</li>\n",
       "\t<li>1.8</li>\n",
       "\t<li>1.75</li>\n",
       "\t<li>1.62</li>\n",
       "\t<li>1.75</li>\n",
       "\t<li>1.68</li>\n",
       "\t<li>1.59</li>\n",
       "\t<li>1.67</li>\n",
       "\t<li>1.74</li>\n",
       "\t<li>1.72</li>\n",
       "\t<li>1.75</li>\n",
       "</ol>\n"
      ],
      "text/latex": [
       "\\begin{enumerate*}\n",
       "\\item 1.63\n",
       "\\item 1.89\n",
       "\\item 1.74\n",
       "\\item 1.72\n",
       "\\item 1.65\n",
       "\\item 1.8\n",
       "\\item 1.75\n",
       "\\item 1.62\n",
       "\\item 1.75\n",
       "\\item 1.68\n",
       "\\item 1.59\n",
       "\\item 1.67\n",
       "\\item 1.74\n",
       "\\item 1.72\n",
       "\\item 1.75\n",
       "\\end{enumerate*}\n"
      ],
      "text/markdown": [
       "1. 1.63\n",
       "2. 1.89\n",
       "3. 1.74\n",
       "4. 1.72\n",
       "5. 1.65\n",
       "6. 1.8\n",
       "7. 1.75\n",
       "8. 1.62\n",
       "9. 1.75\n",
       "10. 1.68\n",
       "11. 1.59\n",
       "12. 1.67\n",
       "13. 1.74\n",
       "14. 1.72\n",
       "15. 1.75\n",
       "\n",
       "\n"
      ],
      "text/plain": [
       " [1] 1.63 1.89 1.74 1.72 1.65 1.80 1.75 1.62 1.75 1.68 1.59 1.67 1.74 1.72 1.75"
      ]
     },
     "metadata": {},
     "output_type": "display_data"
    }
   ],
   "source": [
    "height = c(1.63,1.89,1.74,1.72,1.65,1.80,1.75,1.62,1.75,1.68,1.59,1.67,1.74,1.72,1.75)\n",
    "height"
   ]
  },
  {
   "cell_type": "code",
   "execution_count": 9,
   "metadata": {},
   "outputs": [
    {
     "data": {
      "text/html": [
       "<ol class=list-inline>\n",
       "\t<li>50</li>\n",
       "\t<li>48</li>\n",
       "\t<li>70</li>\n",
       "\t<li>72</li>\n",
       "\t<li>49</li>\n",
       "\t<li>52</li>\n",
       "\t<li>80</li>\n",
       "\t<li>42</li>\n",
       "\t<li>60</li>\n",
       "\t<li>58</li>\n",
       "\t<li>44</li>\n",
       "\t<li>53</li>\n",
       "\t<li>61</li>\n",
       "\t<li>82</li>\n",
       "\t<li>77</li>\n",
       "</ol>\n"
      ],
      "text/latex": [
       "\\begin{enumerate*}\n",
       "\\item 50\n",
       "\\item 48\n",
       "\\item 70\n",
       "\\item 72\n",
       "\\item 49\n",
       "\\item 52\n",
       "\\item 80\n",
       "\\item 42\n",
       "\\item 60\n",
       "\\item 58\n",
       "\\item 44\n",
       "\\item 53\n",
       "\\item 61\n",
       "\\item 82\n",
       "\\item 77\n",
       "\\end{enumerate*}\n"
      ],
      "text/markdown": [
       "1. 50\n",
       "2. 48\n",
       "3. 70\n",
       "4. 72\n",
       "5. 49\n",
       "6. 52\n",
       "7. 80\n",
       "8. 42\n",
       "9. 60\n",
       "10. 58\n",
       "11. 44\n",
       "12. 53\n",
       "13. 61\n",
       "14. 82\n",
       "15. 77\n",
       "\n",
       "\n"
      ],
      "text/plain": [
       " [1] 50 48 70 72 49 52 80 42 60 58 44 53 61 82 77"
      ]
     },
     "metadata": {},
     "output_type": "display_data"
    }
   ],
   "source": [
    "weight = c(50,48,70,72,49,52,80,42,60,58,44,53,61,82,77)\n",
    "weight"
   ]
  },
  {
   "cell_type": "markdown",
   "metadata": {},
   "source": [
    "**2. Calculate the BMI by the formula above:**"
   ]
  },
  {
   "cell_type": "code",
   "execution_count": 7,
   "metadata": {},
   "outputs": [
    {
     "data": {
      "text/html": [
       "<ol class=list-inline>\n",
       "\t<li>18.8189243102864</li>\n",
       "\t<li>13.4374737549341</li>\n",
       "\t<li>23.1206235962479</li>\n",
       "\t<li>24.3374797187669</li>\n",
       "\t<li>17.9981634527089</li>\n",
       "\t<li>16.0493827160494</li>\n",
       "\t<li>26.1224489795918</li>\n",
       "\t<li>16.0036579789666</li>\n",
       "\t<li>19.5918367346939</li>\n",
       "\t<li>20.5498866213152</li>\n",
       "\t<li>17.4043748269451</li>\n",
       "\t<li>19.0039083509627</li>\n",
       "\t<li>20.147971991016</li>\n",
       "\t<li>27.7176852352623</li>\n",
       "\t<li>25.1428571428571</li>\n",
       "</ol>\n"
      ],
      "text/latex": [
       "\\begin{enumerate*}\n",
       "\\item 18.8189243102864\n",
       "\\item 13.4374737549341\n",
       "\\item 23.1206235962479\n",
       "\\item 24.3374797187669\n",
       "\\item 17.9981634527089\n",
       "\\item 16.0493827160494\n",
       "\\item 26.1224489795918\n",
       "\\item 16.0036579789666\n",
       "\\item 19.5918367346939\n",
       "\\item 20.5498866213152\n",
       "\\item 17.4043748269451\n",
       "\\item 19.0039083509627\n",
       "\\item 20.147971991016\n",
       "\\item 27.7176852352623\n",
       "\\item 25.1428571428571\n",
       "\\end{enumerate*}\n"
      ],
      "text/markdown": [
       "1. 18.8189243102864\n",
       "2. 13.4374737549341\n",
       "3. 23.1206235962479\n",
       "4. 24.3374797187669\n",
       "5. 17.9981634527089\n",
       "6. 16.0493827160494\n",
       "7. 26.1224489795918\n",
       "8. 16.0036579789666\n",
       "9. 19.5918367346939\n",
       "10. 20.5498866213152\n",
       "11. 17.4043748269451\n",
       "12. 19.0039083509627\n",
       "13. 20.147971991016\n",
       "14. 27.7176852352623\n",
       "15. 25.1428571428571\n",
       "\n",
       "\n"
      ],
      "text/plain": [
       " [1] 18.81892 13.43747 23.12062 24.33748 17.99816 16.04938 26.12245 16.00366\n",
       " [9] 19.59184 20.54989 17.40437 19.00391 20.14797 27.71769 25.14286"
      ]
     },
     "metadata": {},
     "output_type": "display_data"
    }
   ],
   "source": [
    "BMI = weight / (height * height)\n",
    "BMI"
   ]
  },
  {
   "cell_type": "markdown",
   "metadata": {},
   "source": [
    "**3. Calculate the mean value of students' BMI:**"
   ]
  },
  {
   "cell_type": "code",
   "execution_count": 10,
   "metadata": {},
   "outputs": [
    {
     "data": {
      "text/html": [
       "20.3631116940403"
      ],
      "text/latex": [
       "20.3631116940403"
      ],
      "text/markdown": [
       "20.3631116940403"
      ],
      "text/plain": [
       "[1] 20.36311"
      ]
     },
     "metadata": {},
     "output_type": "display_data"
    }
   ],
   "source": [
    "avg = mean(BMI)\n",
    "avg"
   ]
  },
  {
   "cell_type": "markdown",
   "metadata": {},
   "source": [
    "**4. Calculate the median of students' BMI:**"
   ]
  },
  {
   "cell_type": "code",
   "execution_count": 11,
   "metadata": {},
   "outputs": [
    {
     "data": {
      "text/html": [
       "19.5918367346939"
      ],
      "text/latex": [
       "19.5918367346939"
      ],
      "text/markdown": [
       "19.5918367346939"
      ],
      "text/plain": [
       "[1] 19.59184"
      ]
     },
     "metadata": {},
     "output_type": "display_data"
    }
   ],
   "source": [
    "med = median(BMI)\n",
    "med"
   ]
  },
  {
   "cell_type": "markdown",
   "metadata": {},
   "source": [
    "**5. Find the maximum and minimum value of students' BMI: **"
   ]
  },
  {
   "cell_type": "code",
   "execution_count": 12,
   "metadata": {},
   "outputs": [
    {
     "data": {
      "text/html": [
       "27.7176852352623"
      ],
      "text/latex": [
       "27.7176852352623"
      ],
      "text/markdown": [
       "27.7176852352623"
      ],
      "text/plain": [
       "[1] 27.71769"
      ]
     },
     "metadata": {},
     "output_type": "display_data"
    }
   ],
   "source": [
    "max = max(BMI)\n",
    "max"
   ]
  },
  {
   "cell_type": "code",
   "execution_count": 13,
   "metadata": {},
   "outputs": [
    {
     "data": {
      "text/html": [
       "13.4374737549341"
      ],
      "text/latex": [
       "13.4374737549341"
      ],
      "text/markdown": [
       "13.4374737549341"
      ],
      "text/plain": [
       "[1] 13.43747"
      ]
     },
     "metadata": {},
     "output_type": "display_data"
    }
   ],
   "source": [
    "min = min(BMI)\n",
    "min"
   ]
  },
  {
   "cell_type": "code",
   "execution_count": null,
   "metadata": {},
   "outputs": [],
   "source": []
  }
 ],
 "metadata": {
  "kernelspec": {
   "display_name": "R",
   "language": "R",
   "name": "ir"
  },
  "language_info": {
   "codemirror_mode": "r",
   "file_extension": ".r",
   "mimetype": "text/x-r-source",
   "name": "R",
   "pygments_lexer": "r",
   "version": "3.5.1"
  }
 },
 "nbformat": 4,
 "nbformat_minor": 2
}
